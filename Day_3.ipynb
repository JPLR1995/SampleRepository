{
 "cells": [
  {
   "cell_type": "markdown",
   "metadata": {},
   "source": [
    "# Iteration\n",
    "\n",
    "- Basic idea is to run code in a loop\n",
    "\n",
    "### Iterate through a list\n",
    "\n",
    "- Loop through a list, and apply code to each item in the list"
   ]
  },
  {
   "cell_type": "code",
   "execution_count": null,
   "metadata": {},
   "outputs": [],
   "source": [
    "l = [1,2,10,56]\n",
    "for item in l: # `item` is how you'll refer to each item in the list\n",
    "  print(item + 20)"
   ]
  },
  {
   "cell_type": "markdown",
   "metadata": {},
   "source": [
    "## While loop\n",
    "\n",
    "- Keep going until a condition is met"
   ]
  },
  {
   "cell_type": "code",
   "execution_count": null,
   "metadata": {},
   "outputs": [],
   "source": [
    "x = 1\n",
    "while x < 10:\n",
    "  print(x)\n",
    "  x = x + 1\n",
    "print('All done')"
   ]
  },
  {
   "cell_type": "markdown",
   "metadata": {},
   "source": [
    "## Breaking out of loops\n",
    "\n",
    "- List loops terminate when the list is exhausted\n",
    "- Sometimes, it makes sense to break out of the loop in other ways\n",
    "\t- `continue` jumps to the next item in the loop without finishing the rest of the body of code\n",
    "\t- `break` breaks the loop"
   ]
  },
  {
   "cell_type": "code",
   "execution_count": null,
   "metadata": {},
   "outputs": [],
   "source": [
    "for x in range(100):\n",
    "  if x % 2 == 0:\n",
    "    continue\n",
    "  print(x)\n",
    "  if x > 7:\n",
    "    break"
   ]
  },
  {
   "cell_type": "markdown",
   "metadata": {},
   "source": [
    "## Common and important pattern in loops\n",
    "\n",
    "- Create an object to store some kind of result\n",
    "- Every time you go through the loop, update that object"
   ]
  },
  {
   "cell_type": "code",
   "execution_count": null,
   "metadata": {},
   "outputs": [],
   "source": [
    "import random\n",
    "\n",
    "max_num = None\n",
    "\n",
    "for n in range(10):\n",
    "    curr_num = random.randint(1,100)\n",
    "    if max_num == None or curr_num > max_num:\n",
    "        max_num = curr_num\n",
    "\n",
    "print(max_num)"
   ]
  },
  {
   "cell_type": "markdown",
   "metadata": {},
   "source": [
    "# Strings\n",
    "\n",
    "- Strings are sequences of characters\n",
    "- Brackets index them (e.g., `'test'[1]` will output `'e'` - because counting starts at zero in python!)\n",
    "- There are a few ways to transform strings"
   ]
  },
  {
   "cell_type": "code",
   "execution_count": null,
   "metadata": {},
   "outputs": [],
   "source": [
    "'test'[1]"
   ]
  },
  {
   "cell_type": "code",
   "execution_count": null,
   "metadata": {},
   "outputs": [],
   "source": [
    "'hi ' + 'there'"
   ]
  },
  {
   "cell_type": "code",
   "execution_count": null,
   "metadata": {},
   "outputs": [],
   "source": [
    "'hi ' * 98"
   ]
  },
  {
   "cell_type": "code",
   "execution_count": null,
   "metadata": {},
   "outputs": [],
   "source": [
    "'hi'.upper()"
   ]
  },
  {
   "cell_type": "code",
   "execution_count": null,
   "metadata": {},
   "outputs": [],
   "source": [
    "'HI'.lower()"
   ]
  },
  {
   "cell_type": "markdown",
   "metadata": {},
   "source": [
    "And some ways to get information about strings"
   ]
  },
  {
   "cell_type": "code",
   "execution_count": null,
   "metadata": {},
   "outputs": [],
   "source": [
    "s = 'This is only a test'\n",
    "len(s)"
   ]
  },
  {
   "cell_type": "code",
   "execution_count": null,
   "metadata": {},
   "outputs": [],
   "source": [
    "s.find('t')"
   ]
  },
  {
   "cell_type": "code",
   "execution_count": null,
   "metadata": {},
   "outputs": [],
   "source": [
    "s.startswith('test')"
   ]
  },
  {
   "cell_type": "code",
   "execution_count": null,
   "metadata": {},
   "outputs": [],
   "source": [
    "s.endswith('test')"
   ]
  },
  {
   "cell_type": "markdown",
   "metadata": {},
   "source": [
    "## Formatting strings\n",
    "\n",
    "There are few ways to format strings. My preferred (which is different from the book) is new, and is called '[f-strings](https://realpython.com/python-f-strings/)'."
   ]
  },
  {
   "cell_type": "code",
   "execution_count": null,
   "metadata": {},
   "outputs": [],
   "source": [
    "name = 'Jeremy'\n",
    "age = 39\n",
    "\n",
    "f'My name is {name} and I am {age} years old'"
   ]
  },
  {
   "cell_type": "markdown",
   "metadata": {},
   "source": [
    "# Lists\n",
    "\n",
    "- Is what you think\n",
    "- Contained in square brackets - []\n",
    "- Can contain other things, like more lists, e.g., [[1,3],[1,4]]"
   ]
  },
  {
   "cell_type": "code",
   "execution_count": null,
   "metadata": {},
   "outputs": [],
   "source": [
    "# Brackets *after* a list let you slice it\n",
    "l = [1,3,54,7,3,3]\n",
    "l[:3]"
   ]
  },
  {
   "cell_type": "code",
   "execution_count": null,
   "metadata": {},
   "outputs": [],
   "source": [
    "# Get the second item to the end\n",
    "l[1:]"
   ]
  },
  {
   "cell_type": "code",
   "execution_count": null,
   "metadata": {},
   "outputs": [],
   "source": [
    "# Get the third to sixth items\n",
    "l[2:6]"
   ]
  },
  {
   "cell_type": "markdown",
   "metadata": {},
   "source": [
    "This can also work to access items in nested lists"
   ]
  },
  {
   "cell_type": "code",
   "execution_count": null,
   "metadata": {},
   "outputs": [],
   "source": [
    "x = [[1,3],[1,4]]\n",
    "x[1][0]"
   ]
  },
  {
   "cell_type": "markdown",
   "metadata": {},
   "source": [
    "## List methods"
   ]
  },
  {
   "cell_type": "code",
   "execution_count": null,
   "metadata": {},
   "outputs": [],
   "source": [
    "# Add an item to the end of the list\n",
    "l.append(1)\n",
    "l"
   ]
  },
  {
   "cell_type": "code",
   "execution_count": null,
   "metadata": {},
   "outputs": [],
   "source": [
    "# Sort the list (in-place)\n",
    "l.sort()\n",
    "l"
   ]
  },
  {
   "cell_type": "code",
   "execution_count": null,
   "metadata": {},
   "outputs": [],
   "source": [
    "# Remove (and return) the last item in the list\n",
    "x = l.pop()\n",
    "print(l)\n",
    "print(x)"
   ]
  },
  {
   "cell_type": "code",
   "execution_count": null,
   "metadata": {},
   "outputs": [],
   "source": [
    "# pop can also be used to remove and return an item by its index\n",
    "x = l.pop(2)"
   ]
  },
  {
   "cell_type": "code",
   "execution_count": null,
   "metadata": {},
   "outputs": [],
   "source": [
    "# Remove the first matching item from the list (by value, not by index)\n",
    "l.remove(3)\n",
    "l"
   ]
  },
  {
   "cell_type": "code",
   "execution_count": null,
   "metadata": {},
   "outputs": [],
   "source": [
    "# Check if an object is in the list\n",
    "2 in l"
   ]
  },
  {
   "cell_type": "markdown",
   "metadata": {},
   "source": [
    "# Day 3 - Chapter 5\n",
    "## Exercise 1\n",
    "### Write a program which repeatedly reads numbers until the user enters “done”. Once “done” is entered, print out the total, count, and average of the numbers. If the user enters anything other than a number, detect their mistake using try and except and print an error message and skip to the next number."
   ]
  },
  {
   "cell_type": "code",
   "execution_count": 25,
   "metadata": {},
   "outputs": [
    {
     "name": "stdout",
     "output_type": "stream",
     "text": [
      "Enter a number: 5\n",
      "Enter a number: 8\n",
      "Enter a number: \n",
      "Invalid input\n",
      "Enter a number: 4\n",
      "Enter a number: 8\n",
      "Enter a number: done\n",
      "25.0 4 6.25\n"
     ]
    }
   ],
   "source": [
    "total = 0\n",
    "count = 0\n",
    "ave = 0\n",
    "while True:\n",
    "    number = input('Enter a number: ')\n",
    "    try:\n",
    "        total = total + float(number)\n",
    "        count = count + 1\n",
    "    except:\n",
    "        if number == \"done\":\n",
    "            ave = (total / count)\n",
    "            print(f\"{total} {count} {ave}\")\n",
    "            break\n",
    "        else:\n",
    "            print(\"Invalid input\")\n",
    "            continue"
   ]
  },
  {
   "cell_type": "markdown",
   "metadata": {},
   "source": [
    "## Exercise 2\n",
    "### Write another program that prompts for a list of numbers as above and at the end prints out both the maximum and minimum of the numbers instead of the average."
   ]
  },
  {
   "cell_type": "code",
   "execution_count": 17,
   "metadata": {},
   "outputs": [
    {
     "name": "stdout",
     "output_type": "stream",
     "text": [
      "Enter a number: s\n",
      "Invalid input\n",
      "Enter a number: s\n",
      "Invalid input\n",
      "Enter a number: s\n",
      "Invalid input\n",
      "Enter a number: s\n",
      "Invalid input\n",
      "Enter a number: 5\n",
      "Enter a number: 8\n",
      "Enter a number: 1\n",
      "Enter a number: 2\n",
      "Enter a number: \n",
      "Invalid input\n",
      "Enter a number: done\n",
      "8.0 1.0\n"
     ]
    }
   ],
   "source": [
    "largest = None\n",
    "smallest = None\n",
    "while True:\n",
    "    number = input('Enter a number: ')\n",
    "    try:\n",
    "        if smallest is None or float(number) < smallest:\n",
    "            smallest = float(number)\n",
    "        if largest is None or float(number) > largest:\n",
    "            largest = float(number)\n",
    "    except:\n",
    "        if number == \"done\":\n",
    "            print(f\"{largest} {smallest}\")\n",
    "            break\n",
    "        else:\n",
    "            print(\"Invalid input\")\n",
    "            continue"
   ]
  },
  {
   "cell_type": "markdown",
   "metadata": {},
   "source": [
    "# Day 3 - Chapter 6\n",
    "## Exercise 5\n",
    "### Take the following Python code that stores a string:\n",
    "\n",
    "str = 'X-DSPAM-Confidence:0.8475'\n",
    "\n",
    "### Use find and string slicing to extract the portion of the string after the colon character and then use the float function to convert the extracted string into a floating point number."
   ]
  },
  {
   "cell_type": "code",
   "execution_count": 24,
   "metadata": {},
   "outputs": [
    {
     "name": "stdout",
     "output_type": "stream",
     "text": [
      "<class 'float'>\n",
      "0.8475\n"
     ]
    }
   ],
   "source": [
    "str = 'X-DSPAM-Confidence:0.8475'\n",
    "colon = str.find(':')\n",
    "print(colon)\n",
    "number = str[colon + 1:]\n",
    "number = float(number)\n",
    "print(type(number))\n",
    "print(number)"
   ]
  },
  {
   "cell_type": "markdown",
   "metadata": {},
   "source": [
    "# Day 3 - Chapter 8\n",
    "## Exercise 6\n",
    "### Rewrite the program that prompts the user for a list of numbers and prints out the maximum and minimum of the numbers at the end when the user enters “done”. Write the program to store the numbers the user enters in a list and use the max() and min() functions to compute the maximum and minimum numbers after the loop completes."
   ]
  },
  {
   "cell_type": "code",
   "execution_count": 53,
   "metadata": {},
   "outputs": [
    {
     "name": "stdout",
     "output_type": "stream",
     "text": [
      "Enter a number: done\n",
      "Please, enter at least one number\n",
      "Enter a number: 9\n",
      "Enter a number: done\n",
      "9.0 9.0\n"
     ]
    }
   ],
   "source": [
    "numlist = list()\n",
    "while True:\n",
    "    number = input('Enter a number: ')\n",
    "    try:\n",
    "        numlist.append(float(number))\n",
    "    except:\n",
    "        if number == \"done\":\n",
    "            if len(numlist) == 0:\n",
    "                print(\"Please, enter at least one number\")\n",
    "                continue\n",
    "            else:\n",
    "                print(f\"{min(numlist)} {max(numlist)}\")\n",
    "                break\n",
    "        else:\n",
    "            print(\"Invalid input\")\n",
    "            continue"
   ]
  }
 ],
 "metadata": {
  "kernelspec": {
   "display_name": "Python 3",
   "language": "python",
   "name": "python3"
  },
  "language_info": {
   "codemirror_mode": {
    "name": "ipython",
    "version": 3
   },
   "file_extension": ".py",
   "mimetype": "text/x-python",
   "name": "python",
   "nbconvert_exporter": "python",
   "pygments_lexer": "ipython3",
   "version": "3.8.8"
  }
 },
 "nbformat": 4,
 "nbformat_minor": 4
}
