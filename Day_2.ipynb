{
 "cells": [
  {
   "cell_type": "markdown",
   "metadata": {},
   "source": [
    "# Variables, Conditionals, and Functions\n",
    "\n",
    "Today's lesson will go over three key programming principles: variables, conditionals, and functions."
   ]
  },
  {
   "cell_type": "markdown",
   "metadata": {},
   "source": [
    "## Variables\n",
    "\n",
    "I like to think of variables as containers. They hold things that you want to use later in your program.\n",
    "\n",
    "We assign something to a variable (i.e., put something into a variable \"container\") using the `=` operator. For example, this stores the value `7` in the variable `x`."
   ]
  },
  {
   "cell_type": "code",
   "execution_count": null,
   "metadata": {},
   "outputs": [],
   "source": [
    "x = 7"
   ]
  },
  {
   "cell_type": "markdown",
   "metadata": {},
   "source": [
    "Once we have created a variable, we can manipulate it using the name of the variable. For example, we can add stuff and multiply `x`."
   ]
  },
  {
   "cell_type": "code",
   "execution_count": null,
   "metadata": {},
   "outputs": [],
   "source": [
    "(x + 5) * 7"
   ]
  },
  {
   "cell_type": "markdown",
   "metadata": {},
   "source": [
    "Now, let's see what x is"
   ]
  },
  {
   "cell_type": "code",
   "execution_count": null,
   "metadata": {},
   "outputs": [],
   "source": [
    "print(x)"
   ]
  },
  {
   "cell_type": "markdown",
   "metadata": {},
   "source": [
    "It didn't change because we usually need to save the output of an operation or else it disappears. Commonly, we will just save the output back to the same variable.\n",
    "\n",
    "The following is bad math but good computer science. The equals symbol isn't saying that the two sides are equal, it is _assigning_ the value on the right to the variable on the left."
   ]
  },
  {
   "cell_type": "code",
   "execution_count": null,
   "metadata": {},
   "outputs": [],
   "source": [
    "x = (x + 5) * 7\n",
    "\n",
    "x"
   ]
  },
  {
   "cell_type": "markdown",
   "metadata": {},
   "source": [
    "Variables can hold basically anything in Python. We will learn more about all of these concepts later in the course, but this includes lists, dictionaries, and functions.\n",
    "\n",
    "For example, this changes x to a list"
   ]
  },
  {
   "cell_type": "code",
   "execution_count": null,
   "metadata": {},
   "outputs": [],
   "source": [
    "x = [1,3,4,5]"
   ]
  },
  {
   "cell_type": "markdown",
   "metadata": {},
   "source": [
    "Now, it has different properties and we can do different things with it. We can't, for example, run the same code as before to add 5 and multiply by 7."
   ]
  },
  {
   "cell_type": "code",
   "execution_count": null,
   "metadata": {},
   "outputs": [],
   "source": [
    "(x + 5) * 7"
   ]
  },
  {
   "cell_type": "markdown",
   "metadata": {},
   "source": [
    "But we could add an element to it"
   ]
  },
  {
   "cell_type": "code",
   "execution_count": null,
   "metadata": {},
   "outputs": [],
   "source": [
    "x.append(6)\n",
    "\n",
    "x"
   ]
  },
  {
   "cell_type": "markdown",
   "metadata": {},
   "source": [
    "## Conditionals"
   ]
  },
  {
   "cell_type": "markdown",
   "metadata": {},
   "source": [
    "It's fairly common that we will want to run some pieces of code under some conditions and others under other conditions.\n",
    "\n",
    "_Boolean expressions_ help us to do that. These are statements that evaluate to `True` or `False`, and we can combine these with _conditional statements_ to do what we want.\n",
    "\n",
    "For example, the code below is a boolean expression. Note that `==` is closer to the mathematical usage of `=`, and it can be read as \"is equal to\""
   ]
  },
  {
   "cell_type": "code",
   "execution_count": null,
   "metadata": {},
   "outputs": [],
   "source": [
    "x = 3\n",
    "\n",
    "x = x + 1\n",
    "\n",
    "x == 4"
   ]
  },
  {
   "cell_type": "markdown",
   "metadata": {},
   "source": [
    "These expressions can be arbitrarily complex and contain multiple expressions within them, connected by `and` and `or` and even nested within parentheses.\n",
    "\n",
    "Typically, it is bad practice to make these expressions very complex and you should think about a new way to do what you are doing if you find yourself combining more than a couple expressions."
   ]
  },
  {
   "cell_type": "code",
   "execution_count": null,
   "metadata": {},
   "outputs": [],
   "source": [
    "x > 3 and x < 5 and x != 3.5 or x < 2"
   ]
  },
  {
   "cell_type": "markdown",
   "metadata": {},
   "source": [
    "### if, elif, and else\n",
    "\n",
    "Now, let's combine a boolean expression with a conditional statement."
   ]
  },
  {
   "cell_type": "code",
   "execution_count": null,
   "metadata": {},
   "outputs": [],
   "source": [
    "x = input(\"What is your name?\")\n",
    "\n",
    "if x == 'Jeremy':\n",
    "    print('Yo, J!')\n",
    "elif x == 'Test' or x == 'test':\n",
    "    print('Testing code is working')\n",
    "else:\n",
    "    print(\"Hello, \" + x)"
   ]
  },
  {
   "cell_type": "markdown",
   "metadata": {},
   "source": [
    "In the code above, `if` starts the conditional statement. We have a boolean expression following `if`, follwed by a colon (`:`).\n",
    "\n",
    "We then indent four spaces (`Tab` will do this by default in Jupyter), and write some more code. Whatever code is indented here is run if and only if the boolean expression evaluates to `True`.\n",
    "\n",
    "An `if` statement can stand on its own, like so:"
   ]
  },
  {
   "cell_type": "code",
   "execution_count": null,
   "metadata": {},
   "outputs": [],
   "source": [
    "n = 3\n",
    "\n",
    "if n < 10:\n",
    "    print(\"Number is less than 10\")"
   ]
  },
  {
   "cell_type": "markdown",
   "metadata": {},
   "source": [
    "`elif` and `else`, on the other hand, can only exist with an `if` statement. You can have as many `elif` statements as you like. Python will go through them in order and run the code following the first `if` or `elif` that evaluates to `True`. If none of them evaluate to `True`, then any code following the (optional) `else` statement will be run."
   ]
  },
  {
   "cell_type": "code",
   "execution_count": null,
   "metadata": {},
   "outputs": [],
   "source": [
    "if n < 1:\n",
    "    print('Less than 1')\n",
    "elif n < 3:\n",
    "    print(\"Less than 3 but greater than or equal to 1\")\n",
    "elif n < 6:\n",
    "    print(\"Less than 6 but greater than or equal to 3\")\n",
    "elif n < 5:\n",
    "    print(\"This code will never be run\")\n",
    "else:\n",
    "    print(\"Greater than or equal to 6\")\n",
    "    "
   ]
  },
  {
   "cell_type": "markdown",
   "metadata": {},
   "source": [
    "With `if` and `elif` only one chunk of code will be run, and we need to think carefully about the order in which we write it.\n",
    "\n",
    "Sometimes, we may want code to run every time a condition is met. In this case, we can use multiple `if` statements instead."
   ]
  },
  {
   "cell_type": "code",
   "execution_count": null,
   "metadata": {},
   "outputs": [],
   "source": [
    "if n < 10:\n",
    "    print(\"Less than 10\")\n",
    "if n < 8:\n",
    "    print(\"Less than 8\")\n",
    "if n < 4:\n",
    "    print(\"Less than 4\")"
   ]
  },
  {
   "cell_type": "markdown",
   "metadata": {},
   "source": [
    "## try and except"
   ]
  },
  {
   "cell_type": "markdown",
   "metadata": {},
   "source": [
    "Sometimes, we may need to \"catch\" an exception. For example, we might have a variable that we want to convert to a number. Many strings (like 'hello') can't be converted to a number, and so Python will yell at us and quit."
   ]
  },
  {
   "cell_type": "code",
   "execution_count": null,
   "metadata": {},
   "outputs": [],
   "source": [
    "int('hello')"
   ]
  },
  {
   "cell_type": "markdown",
   "metadata": {},
   "source": [
    "We may want to \"catch\" this problem, and do something else instead (like give the user an error message)"
   ]
  },
  {
   "cell_type": "code",
   "execution_count": null,
   "metadata": {},
   "outputs": [],
   "source": [
    "x = input(\"How old are you?\")\n",
    "\n",
    "try:\n",
    "    x = int(x)\n",
    "    print(\"You are \" + str(x) + \" years old\")\n",
    "except ValueError:\n",
    "    print(x + \" is not a number\")"
   ]
  },
  {
   "cell_type": "markdown",
   "metadata": {},
   "source": [
    "## Functions\n",
    "\n",
    "Functions are just pieces of code that take in an input (or a set of inputs), do something with those inputs, and (typically) produce an output.\n",
    "\n",
    "For example, `print()`, which we have already seen, takes in an input, tries to convert it to a string, and prints it to the screen.\n",
    "\n",
    "`int()` takes in a string and converts it to an integer."
   ]
  },
  {
   "cell_type": "code",
   "execution_count": null,
   "metadata": {},
   "outputs": [],
   "source": [
    "x = '4'\n",
    "\n",
    "int(x) + 3"
   ]
  },
  {
   "cell_type": "markdown",
   "metadata": {},
   "source": [
    "We can also create our own functions. We do this using `def` followed by the function name, and the parameters that the function takes.\n",
    "\n",
    "These parameters are then available to manipulate inside the function. Finally, we `return` the output."
   ]
  },
  {
   "cell_type": "code",
   "execution_count": null,
   "metadata": {},
   "outputs": [],
   "source": [
    "def add_nums(x, y):\n",
    "    result = x + y\n",
    "    return result\n",
    "\n",
    "add_nums(3, 4)"
   ]
  },
  {
   "cell_type": "markdown",
   "metadata": {},
   "source": [
    "We can also have default values. For example, maybe we usually want to square numbers but sometimes we want to raise them to another power."
   ]
  },
  {
   "cell_type": "code",
   "execution_count": null,
   "metadata": {},
   "outputs": [],
   "source": [
    "def raise_num_to_power(x, power = 2):\n",
    "    result = x ** power\n",
    "    return result"
   ]
  },
  {
   "cell_type": "code",
   "execution_count": null,
   "metadata": {},
   "outputs": [],
   "source": [
    "raise_num_to_power(3)"
   ]
  },
  {
   "cell_type": "code",
   "execution_count": null,
   "metadata": {},
   "outputs": [],
   "source": [
    "raise_num_to_power(3, 3)"
   ]
  },
  {
   "cell_type": "markdown",
   "metadata": {},
   "source": [
    "# Day 2 - Chapter 1\n",
    "## Exercise 1\n",
    "### What is the function of the secondary memory in a computer?\n",
    "c) Store information for the long term, even beyond a power cycle"
   ]
  },
  {
   "cell_type": "markdown",
   "metadata": {},
   "source": [
    "## Exercise 6\n",
    "### Where in the computer is a variable such as “x” stored after the following Python line finishes?"
   ]
  },
  {
   "cell_type": "code",
   "execution_count": null,
   "metadata": {},
   "outputs": [],
   "source": [
    "x = 123"
   ]
  },
  {
   "cell_type": "markdown",
   "metadata": {},
   "source": [
    "a) Central processing unit"
   ]
  },
  {
   "cell_type": "markdown",
   "metadata": {},
   "source": [
    "## Exercise 7\n",
    "### What will the following program print out:"
   ]
  },
  {
   "cell_type": "code",
   "execution_count": null,
   "metadata": {},
   "outputs": [],
   "source": [
    "x = 43\n",
    "x = x + 1\n",
    "print(x)"
   ]
  },
  {
   "cell_type": "markdown",
   "metadata": {},
   "source": [
    "b) 44"
   ]
  },
  {
   "cell_type": "markdown",
   "metadata": {},
   "source": [
    "# Day 2 - Chapter 2\n",
    "## Exercise 2\n",
    "### Write a program that uses input to prompt a user for their name and then welcomes them.\n",
    "Enter your name: Chuck\n",
    "\n",
    "Hello Chuck"
   ]
  },
  {
   "cell_type": "code",
   "execution_count": 1,
   "metadata": {},
   "outputs": [
    {
     "name": "stdout",
     "output_type": "stream",
     "text": [
      "Enter your name\n",
      "Juan Pablo\n",
      "Hello Juan Pablo\n"
     ]
    }
   ],
   "source": [
    "name = input('Enter your name\\n')\n",
    "print(\"Hello \" + name)"
   ]
  },
  {
   "cell_type": "markdown",
   "metadata": {},
   "source": [
    "## Exercise 3\n",
    "### Write a program to prompt the user for hours and rate per hour to compute gross pay.\n",
    "\n",
    "Enter Hours: 35\n",
    "\n",
    "Enter Rate: 2.75\n",
    "\n",
    "Pay: 96.25"
   ]
  },
  {
   "cell_type": "code",
   "execution_count": 12,
   "metadata": {},
   "outputs": [
    {
     "name": "stdout",
     "output_type": "stream",
     "text": [
      "Enter Hours\n",
      "35\n",
      "Enter Rate\n",
      "2.75\n",
      "Pay 96.25\n"
     ]
    }
   ],
   "source": [
    "hours = input('Enter Hours\\n')\n",
    "rate = input('Enter Rate\\n')\n",
    "payment = float(hours) * float(rate)\n",
    "print(\"Pay \" + str(payment))"
   ]
  },
  {
   "cell_type": "markdown",
   "metadata": {},
   "source": [
    "## Exercise 4\n",
    "### Assume that we execute the following assignment statements:\n",
    "width = 17\n",
    "\n",
    "height = 12.0\n",
    "\n",
    "For each of the following expressions, write the value of the expression and the type (of the value of the expression)."
   ]
  },
  {
   "cell_type": "code",
   "execution_count": 7,
   "metadata": {},
   "outputs": [],
   "source": [
    "width = 17\n",
    "height = 12.0"
   ]
  },
  {
   "cell_type": "code",
   "execution_count": 8,
   "metadata": {},
   "outputs": [
    {
     "data": {
      "text/plain": [
       "8"
      ]
     },
     "execution_count": 8,
     "metadata": {},
     "output_type": "execute_result"
    }
   ],
   "source": [
    "width//2"
   ]
  },
  {
   "cell_type": "code",
   "execution_count": 9,
   "metadata": {},
   "outputs": [
    {
     "data": {
      "text/plain": [
       "8.5"
      ]
     },
     "execution_count": 9,
     "metadata": {},
     "output_type": "execute_result"
    }
   ],
   "source": [
    "width/2.0"
   ]
  },
  {
   "cell_type": "code",
   "execution_count": 10,
   "metadata": {},
   "outputs": [
    {
     "data": {
      "text/plain": [
       "4.0"
      ]
     },
     "execution_count": 10,
     "metadata": {},
     "output_type": "execute_result"
    }
   ],
   "source": [
    "height/3"
   ]
  },
  {
   "cell_type": "code",
   "execution_count": 11,
   "metadata": {},
   "outputs": [
    {
     "data": {
      "text/plain": [
       "11"
      ]
     },
     "execution_count": 11,
     "metadata": {},
     "output_type": "execute_result"
    }
   ],
   "source": [
    "1 + 2 * 5"
   ]
  },
  {
   "cell_type": "markdown",
   "metadata": {},
   "source": [
    "## Exercise 5\n",
    "### Write a program which prompts the user for a Celsius temperature, convert the temperature to Fahrenheit, and print out the converted temperature."
   ]
  },
  {
   "cell_type": "code",
   "execution_count": 15,
   "metadata": {},
   "outputs": [
    {
     "name": "stdout",
     "output_type": "stream",
     "text": [
      "What is the Celsius temperature you want to convert to Fahrenheit\n",
      "25.9\n",
      "25.9 celsius = 78.62 farenheit\n"
     ]
    }
   ],
   "source": [
    "celsius = input('What is the Celsius temperature you want to convert to Fahrenheit\\n')\n",
    "farenheit = (float(celsius) * (9/5)) + 32\n",
    "print(str(celsius) + \" celsius = \" + str(farenheit) + \" farenheit\")"
   ]
  },
  {
   "cell_type": "markdown",
   "metadata": {},
   "source": [
    "# Day 2 - Chapter 3\n",
    "## Exercise 1\n",
    "### Rewrite your pay computation to give the employee 1.5 times the hourly rate for hours worked above 40 hours."
   ]
  },
  {
   "cell_type": "code",
   "execution_count": 24,
   "metadata": {},
   "outputs": [
    {
     "name": "stdout",
     "output_type": "stream",
     "text": [
      "Enter Hours\n",
      "80\n",
      "Enter Rate\n",
      "10\n",
      "Pay 1000.0\n"
     ]
    }
   ],
   "source": [
    "hours = input('Enter Hours\\n')\n",
    "rate = input('Enter Rate\\n')\n",
    "if float(hours) > 40 :\n",
    "    payment = float(rate) * (1.5 * float(hours) - 20)\n",
    "else :\n",
    "    payment = float(rate) * float(hours)\n",
    "print(\"Pay \" + str(payment))"
   ]
  },
  {
   "cell_type": "markdown",
   "metadata": {},
   "source": [
    "## Exercise 2\n",
    "### Rewrite your pay program using try and except so that your program handles non-numeric input gracefully by printing a message and exiting the program. The following shows two executions of the program:\n",
    "\n",
    "Enter Hours: 20\n",
    "\n",
    "Enter Rate: nine\n",
    "\n",
    "Error, please enter numeric input\n",
    "\n",
    "\n",
    "Enter Hours: forty\n",
    "\n",
    "Error, please enter numeric input"
   ]
  },
  {
   "cell_type": "code",
   "execution_count": 50,
   "metadata": {},
   "outputs": [
    {
     "name": "stdout",
     "output_type": "stream",
     "text": [
      "Enter Hours\n",
      "5\n",
      "Enter Rate\n",
      "s\n",
      "Error, please enter numeric input\n"
     ]
    }
   ],
   "source": [
    "hours = input('Enter Hours\\n')\n",
    "try:\n",
    "    hours = float(hours)\n",
    "except:\n",
    "    print(\"Error, please enter numeric input\")\n",
    "\n",
    "if type(hours) == float :\n",
    "    rate = input('Enter Rate\\n')\n",
    "    try:\n",
    "        rate = float(rate)\n",
    "        payment = hours * rate\n",
    "        print(\"Pay \" + str(payment))\n",
    "    except:\n",
    "        print(\"Error, please enter numeric input\")"
   ]
  },
  {
   "cell_type": "markdown",
   "metadata": {},
   "source": [
    "# Day 2 - Chapter 4"
   ]
  },
  {
   "cell_type": "code",
   "execution_count": 51,
   "metadata": {},
   "outputs": [],
   "source": [
    "import math"
   ]
  },
  {
   "cell_type": "code",
   "execution_count": 52,
   "metadata": {},
   "outputs": [],
   "source": [
    "import random"
   ]
  },
  {
   "cell_type": "markdown",
   "metadata": {},
   "source": [
    "## Exercise 1\n",
    "### Run the program on your system and see what numbers you get. Run the program more than once and see what numbers you get."
   ]
  },
  {
   "cell_type": "code",
   "execution_count": 55,
   "metadata": {},
   "outputs": [
    {
     "name": "stdout",
     "output_type": "stream",
     "text": [
      "0.25896426817576634\n",
      "0.44725506983223584\n",
      "0.28587858192718263\n",
      "0.9076154862620066\n",
      "0.012524106744455032\n",
      "0.8976554109337264\n",
      "0.07075864927963449\n",
      "0.79306372999542\n",
      "0.5684200355667535\n",
      "0.9219659796365637\n"
     ]
    }
   ],
   "source": [
    "for i in range(10):\n",
    "    x = random.random()\n",
    "    print(x)"
   ]
  },
  {
   "cell_type": "code",
   "execution_count": 56,
   "metadata": {},
   "outputs": [
    {
     "data": {
      "text/plain": [
       "9"
      ]
     },
     "execution_count": 56,
     "metadata": {},
     "output_type": "execute_result"
    }
   ],
   "source": [
    "random.randint(5, 10)"
   ]
  },
  {
   "cell_type": "code",
   "execution_count": null,
   "metadata": {},
   "outputs": [],
   "source": [
    "t = [1, 2, 3]\n",
    "random.choice(t)"
   ]
  },
  {
   "cell_type": "markdown",
   "metadata": {},
   "source": [
    "## Exercise 2\n",
    "### Move the last line of this program to the top, so the function call appears before the definitions. Run the program and see what error message you get."
   ]
  },
  {
   "cell_type": "code",
   "execution_count": 58,
   "metadata": {},
   "outputs": [
    {
     "ename": "NameError",
     "evalue": "name 'repeat_lyrics' is not defined",
     "output_type": "error",
     "traceback": [
      "\u001b[1;31m---------------------------------------------------------------------------\u001b[0m",
      "\u001b[1;31mNameError\u001b[0m                                 Traceback (most recent call last)",
      "\u001b[1;32m<ipython-input-58-c32d1a2cab7d>\u001b[0m in \u001b[0;36m<module>\u001b[1;34m\u001b[0m\n\u001b[1;32m----> 1\u001b[1;33m \u001b[0mrepeat_lyrics\u001b[0m\u001b[1;33m(\u001b[0m\u001b[1;33m)\u001b[0m\u001b[1;33m\u001b[0m\u001b[1;33m\u001b[0m\u001b[0m\n\u001b[0m\u001b[0;32m      2\u001b[0m \u001b[1;32mdef\u001b[0m \u001b[0mprint_lyrics\u001b[0m\u001b[1;33m(\u001b[0m\u001b[1;33m)\u001b[0m\u001b[1;33m:\u001b[0m\u001b[1;33m\u001b[0m\u001b[1;33m\u001b[0m\u001b[0m\n\u001b[0;32m      3\u001b[0m     \u001b[0mprint\u001b[0m\u001b[1;33m(\u001b[0m\u001b[1;34m\"I'm a lumberjack, and I'm okay.\"\u001b[0m\u001b[1;33m)\u001b[0m\u001b[1;33m\u001b[0m\u001b[1;33m\u001b[0m\u001b[0m\n\u001b[0;32m      4\u001b[0m     \u001b[0mprint\u001b[0m\u001b[1;33m(\u001b[0m\u001b[1;34m'I sleep all night and I work all day.'\u001b[0m\u001b[1;33m)\u001b[0m\u001b[1;33m\u001b[0m\u001b[1;33m\u001b[0m\u001b[0m\n\u001b[0;32m      5\u001b[0m \u001b[1;32mdef\u001b[0m \u001b[0mrepeat_lyrics\u001b[0m\u001b[1;33m(\u001b[0m\u001b[1;33m)\u001b[0m\u001b[1;33m:\u001b[0m\u001b[1;33m\u001b[0m\u001b[1;33m\u001b[0m\u001b[0m\n",
      "\u001b[1;31mNameError\u001b[0m: name 'repeat_lyrics' is not defined"
     ]
    }
   ],
   "source": [
    "repeat_lyrics()\n",
    "def print_lyrics():\n",
    "    print(\"I'm a lumberjack, and I'm okay.\")\n",
    "    print('I sleep all night and I work all day.')\n",
    "def repeat_lyrics():\n",
    "    print_lyrics()\n",
    "    print_lyrics()"
   ]
  },
  {
   "cell_type": "markdown",
   "metadata": {},
   "source": [
    "## Exercise 3\n",
    "### Move the function call back to the bottom and move the definition of print_lyrics after the definition of repeat_lyrics. What happens when you run this program?"
   ]
  },
  {
   "cell_type": "code",
   "execution_count": 60,
   "metadata": {},
   "outputs": [
    {
     "name": "stdout",
     "output_type": "stream",
     "text": [
      "I'm a lumberjack, and I'm okay.\n",
      "I sleep all night and I work all day.\n",
      "I'm a lumberjack, and I'm okay.\n",
      "I sleep all night and I work all day.\n"
     ]
    }
   ],
   "source": [
    "def repeat_lyrics():\n",
    "    print_lyrics()\n",
    "    print_lyrics()\n",
    "def print_lyrics():\n",
    "    print(\"I'm a lumberjack, and I'm okay.\")\n",
    "    print('I sleep all night and I work all day.')\n",
    "repeat_lyrics()"
   ]
  },
  {
   "cell_type": "markdown",
   "metadata": {},
   "source": [
    "## Exercise 5\n",
    "### What will the following Python program print out?"
   ]
  },
  {
   "cell_type": "code",
   "execution_count": 62,
   "metadata": {},
   "outputs": [
    {
     "name": "stdout",
     "output_type": "stream",
     "text": [
      "ABC\n",
      "Zap\n",
      "ABC\n"
     ]
    }
   ],
   "source": [
    "def fred():\n",
    "    print(\"Zap\")\n",
    "def jane():\n",
    "    print(\"ABC\")\n",
    "jane()\n",
    "fred()\n",
    "jane()"
   ]
  },
  {
   "cell_type": "markdown",
   "metadata": {},
   "source": [
    "d) ABC Zap ABC"
   ]
  },
  {
   "cell_type": "markdown",
   "metadata": {},
   "source": [
    "## Exercise 6\n",
    "###  Rewrite your pay computation with time-and-a-half for overtime and create a function called computepay which takes two parameters (hours and rate)."
   ]
  },
  {
   "cell_type": "code",
   "execution_count": null,
   "metadata": {},
   "outputs": [
    {
     "name": "stdout",
     "output_type": "stream",
     "text": [
      "Enter Hours\n",
      "asd\n",
      "Error, please enter numeric input\n"
     ]
    }
   ],
   "source": [
    "def computepay(hours, rate) :\n",
    "    if float(hours) > 40 :\n",
    "        payment = float(rate) * (1.5 * float(hours) - 20)\n",
    "    else :\n",
    "        payment = float(rate) * float(hours)\n",
    "    return payment\n",
    "hours = input('Enter Hours\\n')\n",
    "try:\n",
    "    hours = float(hours)\n",
    "except:\n",
    "    print(\"Error, please enter numeric input\")\n",
    "if type(hours) == float :\n",
    "    rate = input('Enter Rate\\n')\n",
    "    try:\n",
    "        rate = float(rate)\n",
    "        print(\"Pay \" + str(computepay(hours, rate)))\n",
    "    except:\n",
    "        print(\"Error, please enter numeric input\")"
   ]
  },
  {
   "cell_type": "code",
   "execution_count": null,
   "metadata": {},
   "outputs": [],
   "source": []
  }
 ],
 "metadata": {
  "kernelspec": {
   "display_name": "Python 3",
   "language": "python",
   "name": "python3"
  },
  "language_info": {
   "codemirror_mode": {
    "name": "ipython",
    "version": 3
   },
   "file_extension": ".py",
   "mimetype": "text/x-python",
   "name": "python",
   "nbconvert_exporter": "python",
   "pygments_lexer": "ipython3",
   "version": "3.8.8"
  }
 },
 "nbformat": 4,
 "nbformat_minor": 4
}
