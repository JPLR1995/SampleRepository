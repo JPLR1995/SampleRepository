{
 "cells": [
  {
   "cell_type": "markdown",
   "metadata": {},
   "source": [
    "# Introduction to Dictionaries"
   ]
  },
  {
   "cell_type": "markdown",
   "metadata": {},
   "source": [
    "Dictionaries are sort of like lists, except that we access them with a key, rather than with the index. A key can be a number of different objects: a string, a number, or even a tuple (which we will talk about in a moment).\n",
    "\n",
    "Dictionaries are within \"curly braces\"-- `{}` -- and each key is separated by the value with a colon.\n",
    "\n",
    "The following creates a new dictionary, and then shows how to add or edit entries."
   ]
  },
  {
   "cell_type": "code",
   "execution_count": null,
   "metadata": {},
   "outputs": [],
   "source": [
    "basketball_wins = {'Purdue': 5,\n",
    "                   'IU': 2,\n",
    "                   'Northwestern': 0}\n",
    "\n",
    "# To add a new entry\n",
    "basketball_wins['Michigan'] = 5\n",
    "\n",
    "# The same syntax updates an existing entry\n",
    "basketball_wins['Purdue'] = 6\n",
    "\n",
    "print(basketball_wins)"
   ]
  },
  {
   "cell_type": "markdown",
   "metadata": {},
   "source": [
    "You access the data in a dictionary by the key. Unlike a list, you can't access an item in a dictionary by an index number (because the index number could also be a key!)"
   ]
  },
  {
   "cell_type": "code",
   "execution_count": null,
   "metadata": {},
   "outputs": [],
   "source": [
    "basketball_wins['Purdue']"
   ]
  },
  {
   "cell_type": "code",
   "execution_count": null,
   "metadata": {},
   "outputs": [],
   "source": [
    "# But you get an KeyError if it doesn't exist\n",
    "\n",
    "basketball_wins['Wisconsin']"
   ]
  },
  {
   "cell_type": "markdown",
   "metadata": {},
   "source": [
    "Dictionary keys can be any \"immutable\" object in Python, but they are most often strings or numbers."
   ]
  },
  {
   "cell_type": "markdown",
   "metadata": {},
   "source": [
    "While the keys must be unique and don't change, the values can change. The following code takes in a string and counts the letters in it."
   ]
  },
  {
   "cell_type": "code",
   "execution_count": null,
   "metadata": {},
   "outputs": [],
   "source": [
    "string = \"\"\"\n",
    "I have been one acquainted with the night.\n",
    "I have walked out in rain—and back in rain.\n",
    "I have outwalked the furthest city light.\n",
    "\n",
    "I have looked down the saddest city lane.\n",
    "I have passed by the watchman on his beat\n",
    "And dropped my eyes, unwilling to explain.\n",
    "\n",
    "I have stood still and stopped the sound of feet\n",
    "When far away an interrupted cry\n",
    "Came over houses from another street,\n",
    "\n",
    "But not to call me back or say good-bye;\n",
    "And further still at an unearthly height,\n",
    "One luminary clock against the sky\n",
    "\n",
    "Proclaimed the time was neither wrong nor right. \n",
    "I have been one acquainted with the night.\n",
    "\"\"\"\n",
    "string = string.lower()\n",
    "letter_dict = {}\n",
    "for letter in string:\n",
    "    # Don't count new lines or spaces\n",
    "    if letter in ['\\n',' ']:\n",
    "        continue\n",
    "    if letter in letter_dict: # Check if the key exists\n",
    "        letter_dict[letter] = letter_dict[letter] + 1\n",
    "    else: # If it doesn't exist, then create it with the value 1\n",
    "        letter_dict[letter] = 1\n",
    "        \n",
    "print(letter_dict)\n"
   ]
  },
  {
   "cell_type": "markdown",
   "metadata": {},
   "source": [
    "### Excercise 1 \n",
    "\n",
    "See if you can modify the code above to count how often each word appears instead."
   ]
  },
  {
   "cell_type": "code",
   "execution_count": null,
   "metadata": {
    "scrolled": true
   },
   "outputs": [],
   "source": [
    "text = \"\"\"\n",
    "I have been one acquainted with the night.\n",
    "I have walked out in rain—and back in rain.\n",
    "I have outwalked the furthest city light.\n",
    "\n",
    "I have looked down the saddest city lane.\n",
    "I have passed by the watchman on his beat\n",
    "And dropped my eyes, unwilling to explain.\n",
    "\n",
    "I have stood still and stopped the sound of feet\n",
    "When far away an interrupted cry\n",
    "Came over houses from another street,\n",
    "\n",
    "But not to call me back or say good-bye;\n",
    "And further still at an unearthly height,\n",
    "One luminary clock against the sky\n",
    "\n",
    "Proclaimed the time was neither wrong nor right. \n",
    "I have been one acquainted with the night.\n",
    "\"\"\"\n",
    "\n",
    "import string\n",
    "\n",
    "text = text.lower()\n",
    "#Either run next line or the comment below\n",
    "text = text.translate(text.maketrans('', '', string.punctuation))\n",
    "#punc = '''!()-[]{};:'\"\\, <>./?@#$%—^&*_~'''\n",
    "#for not_letter in string: \n",
    "#    if not_letter in punc: \n",
    "#        string = string.replace(not_letter, \" \")\n",
    "word_dict = {}\n",
    "every_word = text.split()\n",
    "for word in every_word:\n",
    "    word_dict[word] = word_dict.get(word, 0) + 1\n",
    "print(word_dict)"
   ]
  },
  {
   "cell_type": "markdown",
   "metadata": {},
   "source": [
    "## Approaches for dealing with missing dictionary keys\n",
    "\n",
    "This pattern of either modifying an existing dictionary entry or creating a new key is very common, and there are a few approaches for handling it.\n",
    "\n",
    "1. The first is what I did above - using an if statement to check if the entry exists, e.g.:\n",
    "\n",
    "```python\n",
    "if letter in letter_dict:\n",
    "    letter_dict[letter] = letter_dict[letter] + 1\n",
    "else:\n",
    "    letter_dict[letter] = 1\n",
    "```\n",
    "\n",
    "2. A very similar approach is used below: instead of `if`, we use a `try...except` clause, e.g.\n",
    "\n",
    "```python\n",
    "try:\n",
    "    letter_dict[letter] = letter_dict[letter] + 1\n",
    "except keyError:\n",
    "    letter_dict[letter] = 1\n",
    "```\n",
    "\n",
    "3. A shorter, but slightly less readable approach is to use the `get` method of a dictionary. In the code below, `letter_dict.get(letter, 0)` will return the value for the key `letter` if it exists, or it will return `0` if the key doesn't exist \n",
    "\n",
    "```python\n",
    "letter_dict[letter] = letter_dict.get(letter, 0) + 1\n",
    "```\n",
    "\n",
    "4. Finally, the `collections` package has a [defualtdict](https://docs.python.org/3.7/library/collections.html#collections.defaultdict) which lets you create a dictionary with a built in default.\n",
    "\n",
    "```python\n",
    "import collections\n",
    "letter_dict = collections.defaultdict(int)\n",
    "...\n",
    "letter_dict[letter] = letter_dict[letter] + 1\n",
    "```\n",
    "\n",
    "For most things in python, the language tries to have one right way to do things. In this case, I think that any of these options are just fine and are basically equivalent. Use whichever makes the most sense to you."
   ]
  },
  {
   "cell_type": "markdown",
   "metadata": {},
   "source": [
    "## Tuples\n",
    "\n",
    "Tuples are very similar to lists. They are created with parentheses -- `()` -- rather than with square brackets. "
   ]
  },
  {
   "cell_type": "code",
   "execution_count": null,
   "metadata": {},
   "outputs": [],
   "source": [
    "my_tuple = (4,13,'hello')"
   ]
  },
  {
   "cell_type": "markdown",
   "metadata": {},
   "source": [
    "Like lists, items in a tuple can be accessed by indexing."
   ]
  },
  {
   "cell_type": "code",
   "execution_count": null,
   "metadata": {},
   "outputs": [],
   "source": [
    "my_tuple[1]"
   ]
  },
  {
   "cell_type": "markdown",
   "metadata": {},
   "source": [
    "However, tuples are \"immutable\", meaning that they can't be changed after they are created. So, things like \"append\" and \"pop\" won't work.\n",
    "\n",
    "This immutability is (for complicated reasons) an important attribute of dictionary keys, and tuples can be used as dictionary keys. For example, let's say you wanted to store the population of cities in the US. You might create a dictionary like this:"
   ]
  },
  {
   "cell_type": "code",
   "execution_count": null,
   "metadata": {},
   "outputs": [],
   "source": [
    "population_dict = {('Georgia', 'Atlanta'): 498000,\n",
    "              ('Illinois', 'Atlanta'): 1692,\n",
    "              ('Illinois', 'Chicago'): 2750000\n",
    "             }"
   ]
  },
  {
   "cell_type": "markdown",
   "metadata": {},
   "source": [
    "## Example\n",
    "\n",
    "The following code takes a csv table of city populations that I grabbed from the US Census bureau API and saved [here](https://raw.githubusercontent.com/jdfoote/Intro-to-Programming-and-Data-Science/master/resources/data/uscities.csv). The first few lines below downloads the file. The next bit of code converts the file into a dictionary that looks like the above."
   ]
  },
  {
   "cell_type": "code",
   "execution_count": 15,
   "metadata": {},
   "outputs": [
    {
     "name": "stdout",
     "output_type": "stream",
     "text": [
      "[(('Alabama', 'Abbeville city'), 2560), (('Alabama', 'Adamsville city'), 4281), (('Alabama', 'Addison town'), 718), (('Alabama', 'Akron town'), 328), (('Alabama', 'Alabaster city'), 33487)]\n"
     ]
    }
   ],
   "source": [
    "import csv\n",
    "import requests\n",
    "import codecs\n",
    "\n",
    "# This downloads the file and then opens it. You could also save it to your computer, and open it in the normal way\n",
    "f = requests.get('https://raw.githubusercontent.com/jdfoote/Intro-to-Programming-and-Data-Science/master/resources/data/uscities.csv')\n",
    "f_csv = csv.reader(codecs.iterdecode(f.iter_lines(), 'utf-8'))\n",
    "next(f_csv) # This just skips the header row, so it isn't in our data\n",
    "\n",
    "population_dict = {}\n",
    "for row in f_csv:\n",
    "     # To get these numbers, I just opened the CSV file and looked at which columns had this data\n",
    "    city = row[1]\n",
    "    state = row[2]\n",
    "    population = int(row[0])\n",
    "    if (state, city) in population_dict: # Check for the same city twice in the same state\n",
    "        print(f\"{(state, city)} appears twice in the data\")\n",
    "    else:\n",
    "        population_dict[(state, city)] = population\n",
    "        \n",
    "# This code prints the first few items in the dictionary, to make sure it looks like it's right\n",
    "print(list(population_dict.items())[:5])"
   ]
  },
  {
   "cell_type": "code",
   "execution_count": 25,
   "metadata": {},
   "outputs": [
    {
     "data": {
      "text/plain": [
       "'Addison town'"
      ]
     },
     "execution_count": 25,
     "metadata": {},
     "output_type": "execute_result"
    }
   ],
   "source": [
    "list(population_dict.items())[2][0][1]"
   ]
  },
  {
   "cell_type": "markdown",
   "metadata": {},
   "source": [
    "It looks right, so let's press on.\n",
    "\n",
    "By using tuples as keys, you can do things like summarize by one or the other entries in the tuple."
   ]
  },
  {
   "cell_type": "code",
   "execution_count": 10,
   "metadata": {},
   "outputs": [
    {
     "name": "stdout",
     "output_type": "stream",
     "text": [
      "{'Alabama': 2998987, 'Alaska': 497834, 'Arizona': 5791407, 'Arkansas': 2001152, 'California': 32965607, 'Colorado': 4279051, 'Connecticut': 1379443, 'Delaware': 276116, 'District of Columbia': 705749, 'Florida': 10766975, 'Village of Islands village; Florida': 6317, 'Georgia': 4685332, 'Hawaii': 345064, 'Idaho': 1257628, 'Illinois': 11040504, 'Indiana': 4505674, 'Iowa': 2524555, 'Kansas': 2418759, 'Kentucky': 2473075, 'Louisiana': 2179262, 'Maine': 376400, 'Maryland': 1528860, 'Massachusetts': 3636758, 'Michigan': 5051706, 'Minnesota': 4665488, 'Mississippi': 1505545, 'Missouri': 4067590, 'Montana': 580973, 'Nebraska': 1500339, 'Nevada': 1752205, 'New Hampshire': 428025, 'New Jersey': 4233773, 'New Mexico': 1402249, 'New York': 12403348, 'North Carolina': 5962201, 'North Dakota': 592706, 'Ohio': 7604347, 'Oklahoma': 3044153, 'Oregon': 2963745, 'Pennsylvania': 5586259, 'Rhode Island': 547731, 'South Carolina': 1865562, 'South Dakota': 626159, 'Tennessee': 4090552, 'Moore County metropolitan government; Tennessee': 6488, 'Texas': 21347770, 'Utah': 2999411, 'Vermont': 150100, 'Virginia': 3091495, 'Washington': 4970509, 'West Virginia': 607895, 'Wisconsin': 4198300, 'Wyoming': 397716}\n"
     ]
    }
   ],
   "source": [
    "state_populations = {}\n",
    "for state_city in population_dict:\n",
    "    state = state_city[0] # Extract the state from the key\n",
    "    city_pop = population_dict[state_city] # Extract the population from the value\n",
    "    try: # If the key exists, then add the population\n",
    "        state_populations[state] = state_populations[state] + city_pop\n",
    "    except KeyError: # Otherwise set the value to the population\n",
    "        state_populations[state] = city_pop\n",
    "    \n",
    "print(state_populations)"
   ]
  },
  {
   "cell_type": "markdown",
   "metadata": {},
   "source": [
    "## Excercise 2\n",
    "\n",
    "Reuse and modify the code above so that it prints a dictionary of the total population of cities that start with each letter of the alphabet."
   ]
  },
  {
   "cell_type": "code",
   "execution_count": 32,
   "metadata": {},
   "outputs": [
    {
     "name": "stdout",
     "output_type": "stream",
     "text": [
      "{'a': 10205308, 'b': 12556367, 'c': 19334831, 'd': 8004522, 'e': 5776253, 'f': 7887257, 'g': 6978634, 'h': 9657570, 'i': 2537573, 'j': 3115112, 'k': 3357584, 'l': 15896771, 'm': 15038400, 'n': 15665179, 'o': 5766337, 'p': 13478110, 'r': 7750171, 's': 23085235, 't': 6159462, 'u': 1158915, 'v': 2185529, 'w': 9914670, 'y': 952731, 'q': 244256, 'z': 150757, 'x': 27315}\n"
     ]
    }
   ],
   "source": [
    "letter_city_pop = {}\n",
    "for cities in population_dict:\n",
    "    city = cities[1] # Extract the city from the key\n",
    "    city_pop = population_dict[cities] # Extract the population from the value\n",
    "    for letter in \"abcdefghijklmnopqrstuvwxyz\":\n",
    "        if city.startswith(letter.upper()):\n",
    "            try: # If the key exists, then add the population\n",
    "                letter_city_pop[letter] = letter_city_pop[letter] + city_pop\n",
    "            except KeyError: # Otherwise set the value to the population\n",
    "                letter_city_pop[letter] = city_pop\n",
    "    \n",
    "print(letter_city_pop)"
   ]
  },
  {
   "cell_type": "markdown",
   "metadata": {},
   "source": [
    "# Day 5 - Chapter 9\n",
    "## Exercise 2\n",
    "### Write a program that categorizes each mail message by which day of the week the commit was done. To do this look for lines that start with “From”, then look for the third word and keep a running count of each of the days of the week. At the end of the program print out the contents of your dictionary (order does not matter)."
   ]
  },
  {
   "cell_type": "code",
   "execution_count": null,
   "metadata": {},
   "outputs": [],
   "source": [
    "fname = input('Enter the file name: ')\n",
    "try:\n",
    "    f = open(fname, 'r')\n",
    "except:\n",
    "    print('File cannot be opened:', fname)\n",
    "    exit()\n",
    "days = {}\n",
    "for line in f:\n",
    "    if line.startswith(\"From\"):\n",
    "        try:\n",
    "            day_week = line.split()[2]\n",
    "        except:\n",
    "            continue\n",
    "        days[day_week] = days.get(day_week, 0) + 1\n",
    "f.close()\n",
    "print(days)"
   ]
  },
  {
   "cell_type": "markdown",
   "metadata": {},
   "source": [
    "## Exercise 3\n",
    "### Write a program to read through a mail log, build a histogram using a dictionary to count how many messages have come from each email address, and print the dictionary."
   ]
  },
  {
   "cell_type": "code",
   "execution_count": null,
   "metadata": {},
   "outputs": [],
   "source": [
    "fname = input('Enter the file name: ')\n",
    "try:\n",
    "    f = open(fname, 'r')\n",
    "except:\n",
    "    print('File cannot be opened:', fname)\n",
    "    exit()\n",
    "emails = {}\n",
    "for line in f:\n",
    "    if line.startswith(\"From\") and len(line.split()) > 2:\n",
    "        email = line.split()[1]\n",
    "        emails[email] = emails.get(email, 0) + 1\n",
    "f.close()\n",
    "print(emails)"
   ]
  },
  {
   "cell_type": "markdown",
   "metadata": {},
   "source": [
    "## Exercise 4\n",
    "### Add code to the above program to figure out who has the most messages in the file. After all the data has been read and the dictionary has been created, look through the dictionary using a maximum loop (see Chapter 5: Maximum and minimum loops) to find who has the most messages and print how many messages the person has."
   ]
  },
  {
   "cell_type": "code",
   "execution_count": null,
   "metadata": {},
   "outputs": [],
   "source": [
    "fname = input('Enter the file name: ')\n",
    "try:\n",
    "    f = open(fname, 'r')\n",
    "except:\n",
    "    print('File cannot be opened:', fname)\n",
    "    exit()\n",
    "emails = {}\n",
    "for line in f:\n",
    "    if line.startswith(\"From\") and len(line.split()) > 2:\n",
    "        email = line.split()[1]\n",
    "        emails[email] = emails.get(email, 0) + 1\n",
    "f.close()\n",
    "largest = None\n",
    "for key in emails:\n",
    "    if largest is None or emails[key] > largest:\n",
    "            largest = emails[key]\n",
    "            sender = key\n",
    "print(sender, largest)"
   ]
  },
  {
   "cell_type": "markdown",
   "metadata": {},
   "source": [
    "# Day 5 - Chapter 10\n",
    "## Exercise 1\n",
    "### Revise a previous program as follows: Read and parse the “From” lines and pull out the addresses from the line. Count the number of messages from each person using a dictionary. After all the data has been read, print the person with the most commits by creating a list of (count, email) tuples from the dictionary. Then sort the list in reverse order and print out the person who has the most commits."
   ]
  },
  {
   "cell_type": "code",
   "execution_count": 3,
   "metadata": {},
   "outputs": [
    {
     "name": "stdout",
     "output_type": "stream",
     "text": [
      "Enter the file name: mbox-short.txt\n",
      "(5, 'cwen@iupui.edu')\n"
     ]
    }
   ],
   "source": [
    "fname = input('Enter the file name: ')\n",
    "try:\n",
    "    f = open(fname, 'r')\n",
    "except:\n",
    "    print('File cannot be opened:', fname)\n",
    "    exit()\n",
    "emails = {}\n",
    "for line in f:\n",
    "    if line.startswith(\"From\") and len(line.split()) > 2:\n",
    "        email = line.split()[1]\n",
    "        emails[email] = emails.get(email, 0) + 1\n",
    "f.close()\n",
    "senders = list()\n",
    "for key, val in emails.items() :\n",
    "    senders.append( (val, key) )\n",
    "senders.sort(reverse = True)\n",
    "print(senders[0])"
   ]
  },
  {
   "cell_type": "markdown",
   "metadata": {},
   "source": [
    "## Exercise 2\n",
    "### This program counts the distribution of the hour of the day for each of the messages. You can pull the hour from the “From” line by finding the time string and then splitting that string into parts using the colon character. Once you have accumulated the counts for each hour, print out the counts, one per line, sorted by hour as shown below."
   ]
  },
  {
   "cell_type": "code",
   "execution_count": 8,
   "metadata": {},
   "outputs": [
    {
     "name": "stdout",
     "output_type": "stream",
     "text": [
      "Enter the file name: mbox-short.txt\n",
      "[('04', 3), ('06', 1), ('07', 1), ('09', 2), ('10', 3), ('11', 6), ('14', 1), ('15', 2), ('16', 4), ('17', 2), ('18', 1), ('19', 1)]\n"
     ]
    }
   ],
   "source": [
    "fname = input('Enter the file name: ')\n",
    "try:\n",
    "    f = open(fname, 'r')\n",
    "except:\n",
    "    print('File cannot be opened:', fname)\n",
    "    exit()\n",
    "hours = {}\n",
    "for line in f:\n",
    "    if line.startswith(\"From\") and len(line.split()) > 2:\n",
    "        colon = line.find(':')\n",
    "        hour = line[colon - 2:colon]\n",
    "        hours[hour] = hours.get(hour, 0) + 1\n",
    "f.close()\n",
    "sort_hours = list()\n",
    "for key, val in hours.items() :\n",
    "    sort_hours.append( (key, val) )\n",
    "sort_hours.sort()\n",
    "print(sort_hours)"
   ]
  }
 ],
 "metadata": {
  "kernelspec": {
   "display_name": "Python 3",
   "language": "python",
   "name": "python3"
  },
  "language_info": {
   "codemirror_mode": {
    "name": "ipython",
    "version": 3
   },
   "file_extension": ".py",
   "mimetype": "text/x-python",
   "name": "python",
   "nbconvert_exporter": "python",
   "pygments_lexer": "ipython3",
   "version": "3.8.8"
  }
 },
 "nbformat": 4,
 "nbformat_minor": 4
}
