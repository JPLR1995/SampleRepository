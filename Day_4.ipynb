{
 "cells": [
  {
   "cell_type": "markdown",
   "metadata": {},
   "source": [
    "# Opening, closing, reading, and writing to files\n",
    "\n",
    "This notebook will introduce the idea of loading, reading, and writing to files in Python.\n",
    "\n",
    "Manipulating files in python is typically a two step process. We first use `open` to create a \"file handle\". This gives us a variable that we can then use to access the file.\n",
    "\n",
    "When we are done with the file, we can use `close` to close it."
   ]
  },
  {
   "cell_type": "code",
   "execution_count": null,
   "metadata": {},
   "outputs": [],
   "source": [
    "f = open('./test.txt', 'w') # The 'w' string says that we are opening this file to write"
   ]
  },
  {
   "cell_type": "code",
   "execution_count": null,
   "metadata": {},
   "outputs": [],
   "source": [
    "f.write('Hello, world\\n') # The \\n is the newline character\n",
    "f.write('How are you?\\n')\n",
    "f.writelines(['Line 3\\n', 'Line 4\\n'])"
   ]
  },
  {
   "cell_type": "code",
   "execution_count": null,
   "metadata": {},
   "outputs": [],
   "source": [
    "f.close()"
   ]
  },
  {
   "cell_type": "code",
   "execution_count": null,
   "metadata": {},
   "outputs": [],
   "source": [
    "# Now that it's closed, writing won't work any more\n",
    "f.write('test')"
   ]
  },
  {
   "cell_type": "markdown",
   "metadata": {},
   "source": [
    "The one problem with that approach is that we have to remember to close the file. By using `with` we avoid this and the file closes automatically. This code does the same thing as above:"
   ]
  },
  {
   "cell_type": "code",
   "execution_count": null,
   "metadata": {},
   "outputs": [],
   "source": [
    "with open('./test.txt', 'w') as f:\n",
    "    f.write('Hello, world\\n')\n",
    "    f.write('How are you?\\n')\n",
    "    f.writelines(['Line 3\\n', 'Line 4\\n'])"
   ]
  },
  {
   "cell_type": "markdown",
   "metadata": {},
   "source": [
    "We do a similar operation to read a file"
   ]
  },
  {
   "cell_type": "code",
   "execution_count": null,
   "metadata": {},
   "outputs": [],
   "source": [
    "with open('./test.txt', 'r') as f: # The 'r' is to open for reading\n",
    "    for line in f.readlines():\n",
    "        print(line)"
   ]
  },
  {
   "cell_type": "markdown",
   "metadata": {},
   "source": [
    "## Libraries that make reading and writing easier\n",
    "\n",
    "It is rare that we will operate on files this directly; the `csv` module helps when reading and writing csv files, and `pandas`, which we will come to soon, does a great job of making reading and writing to files simple."
   ]
  },
  {
   "cell_type": "code",
   "execution_count": 1,
   "metadata": {},
   "outputs": [],
   "source": [
    "# CSV example\n",
    "import csv\n",
    "import random\n",
    "\n",
    "with open('./csv_test.csv', 'w') as fh:\n",
    "    f = csv.writer(fh)\n",
    "    f.writerow(['Y', 'X1'])\n",
    "    for i in range(10):\n",
    "        x1 = random.random()\n",
    "        y = x1 + random.random()\n",
    "        f.writerow([y,x1])"
   ]
  },
  {
   "cell_type": "code",
   "execution_count": 2,
   "metadata": {},
   "outputs": [
    {
     "name": "stdout",
     "output_type": "stream",
     "text": [
      "Y = 1.8976183787785939 and X = 0.9487541660218729\n",
      "Y = 1.3734227886144525 and X = 0.5752324033206012\n",
      "Y = 0.2912668344650019 and X = 0.22517597897918407\n",
      "Y = 1.1828483185208836 and X = 0.3092203428613909\n",
      "Y = 0.6256542713802391 and X = 0.5473927875849343\n",
      "Y = 0.9135907324381025 and X = 0.2150186009881746\n",
      "Y = 0.9213683326477987 and X = 0.359400944972571\n",
      "Y = 0.5937718338291528 and X = 0.3254902048513829\n",
      "Y = 1.1173785682523223 and X = 0.9025364778444401\n",
      "Y = 0.49307555814565984 and X = 0.4717461320562556\n"
     ]
    }
   ],
   "source": [
    "with open('csv_test.csv', 'r') as fh:\n",
    "    f = csv.reader(fh)\n",
    "    header = next(f)\n",
    "    for row in f:\n",
    "        if not row:\n",
    "            continue\n",
    "        else:\n",
    "            print(f\"Y = {row[0]} and X = {row[1]}\")"
   ]
  },
  {
   "cell_type": "code",
   "execution_count": 1,
   "metadata": {},
   "outputs": [
    {
     "data": {
      "text/plain": [
       "<AxesSubplot:xlabel='X1', ylabel='Y'>"
      ]
     },
     "execution_count": 1,
     "metadata": {},
     "output_type": "execute_result"
    },
    {
     "data": {
      "image/png": "[encoded data removed]",
      "text/plain": [
       "<Figure size 432x288 with 1 Axes>"
      ]
     },
     "metadata": {
      "needs_background": "light"
     },
     "output_type": "display_data"
    }
   ],
   "source": [
    "## Pandas example; going from raw data to a plot in two lines\n",
    "\n",
    "import pandas as pd\n",
    "import seaborn as sns\n",
    "\n",
    "df = pd.read_csv('csv_test.csv')\n",
    "df.plot.scatter(x = 'X1', y = 'Y')"
   ]
  },
  {
   "cell_type": "markdown",
   "metadata": {},
   "source": [
    "# Day 4 - Chapter 8\n",
    "## Exercise 1\n",
    "### Write a program to read through a file and print the contents of the file (line by line) all in upper case."
   ]
  },
  {
   "cell_type": "code",
   "execution_count": 1,
   "metadata": {},
   "outputs": [
    {
     "name": "stdout",
     "output_type": "stream",
     "text": [
      "Enter the file name: a\n",
      "File cannot be opened: a\n"
     ]
    },
    {
     "ename": "NameError",
     "evalue": "name 'fhand' is not defined",
     "output_type": "error",
     "traceback": [
      "\u001b[1;31m---------------------------------------------------------------------------\u001b[0m",
      "\u001b[1;31mNameError\u001b[0m                                 Traceback (most recent call last)",
      "\u001b[1;32m<ipython-input-1-e11ba8eaebef>\u001b[0m in \u001b[0;36m<module>\u001b[1;34m\u001b[0m\n\u001b[0;32m      4\u001b[0m \u001b[1;32mexcept\u001b[0m\u001b[1;33m:\u001b[0m\u001b[1;33m\u001b[0m\u001b[1;33m\u001b[0m\u001b[0m\n\u001b[0;32m      5\u001b[0m     \u001b[0mprint\u001b[0m\u001b[1;33m(\u001b[0m\u001b[1;34m'File cannot be opened:'\u001b[0m\u001b[1;33m,\u001b[0m \u001b[0mfname\u001b[0m\u001b[1;33m)\u001b[0m\u001b[1;33m\u001b[0m\u001b[1;33m\u001b[0m\u001b[0m\n\u001b[1;32m----> 6\u001b[1;33m \u001b[1;32mfor\u001b[0m \u001b[0mline\u001b[0m \u001b[1;32min\u001b[0m \u001b[0mfhand\u001b[0m\u001b[1;33m:\u001b[0m\u001b[1;33m\u001b[0m\u001b[1;33m\u001b[0m\u001b[0m\n\u001b[0m\u001b[0;32m      7\u001b[0m     \u001b[0mprint\u001b[0m\u001b[1;33m(\u001b[0m\u001b[0mline\u001b[0m\u001b[1;33m.\u001b[0m\u001b[0mupper\u001b[0m\u001b[1;33m(\u001b[0m\u001b[1;33m)\u001b[0m\u001b[1;33m)\u001b[0m\u001b[1;33m\u001b[0m\u001b[1;33m\u001b[0m\u001b[0m\n\u001b[0;32m      8\u001b[0m \u001b[0mfhand\u001b[0m\u001b[1;33m.\u001b[0m\u001b[0mclose\u001b[0m\u001b[1;33m(\u001b[0m\u001b[1;33m)\u001b[0m\u001b[1;33m\u001b[0m\u001b[1;33m\u001b[0m\u001b[0m\n",
      "\u001b[1;31mNameError\u001b[0m: name 'fhand' is not defined"
     ]
    }
   ],
   "source": [
    "fname = input('Enter the file name: ')\n",
    "try:\n",
    "    fhand = open(fname, 'r')\n",
    "except:\n",
    "    print('File cannot be opened:', fname)\n",
    "for line in fhand:\n",
    "    print(line.upper())\n",
    "fhand.close()"
   ]
  },
  {
   "cell_type": "markdown",
   "metadata": {},
   "source": [
    "## Exercise 2\n",
    "### Write a program to prompt for a file name, and then read through the file and look for lines of the form:\n",
    "\n",
    "X-DSPAM-Confidence: 0.8475\n",
    "\n",
    "### When you encounter a line that starts with “X-DSPAM-Confidence:” pull apart the line to extract the floating-point number on the line. Count these lines and then compute the total of the spam confidence values from these lines. When you reach the end of the file, print out the average spam confidence."
   ]
  },
  {
   "cell_type": "code",
   "execution_count": 2,
   "metadata": {},
   "outputs": [
    {
     "name": "stdout",
     "output_type": "stream",
     "text": [
      "Enter the file name: mbox.txt\n",
      "Average spam confidence: 0.8941280467445736\n"
     ]
    }
   ],
   "source": [
    "fname = input('Enter the file name: ')\n",
    "try:\n",
    "    fhand = open(fname, 'r')\n",
    "except:\n",
    "    print('File cannot be opened:', fname)\n",
    "number = 0\n",
    "nlines = 0\n",
    "for line in fhand:\n",
    "    if line.startswith(\"X-DSPAM-Confidence:\"):\n",
    "        colon = line.find(':')\n",
    "        number = number + float(line[colon + 2:])\n",
    "        nlines = nlines + 1\n",
    "fhand.close()\n",
    "ave_spam = number / nlines\n",
    "print(f\"Average spam confidence: {ave_spam}\")"
   ]
  },
  {
   "cell_type": "markdown",
   "metadata": {},
   "source": [
    "## Exercise 3\n",
    "### Sometimes when programmers get bored or want to have a bit of fun, they add a harmless Easter Egg to their program. Modify the program that prompts the user for the file name so that it prints a funny message when the user types in the exact file name “na na boo boo”. The program should behave normally for all other files which exist and don’t exist."
   ]
  },
  {
   "cell_type": "code",
   "execution_count": 1,
   "metadata": {},
   "outputs": [
    {
     "name": "stdout",
     "output_type": "stream",
     "text": [
      "Enter the file name: mbox-short.txt\n",
      "There were 27 subject lines in mbox-short.txt\n"
     ]
    }
   ],
   "source": [
    "fname = input('Enter the file name: ')\n",
    "try:\n",
    "    if fname == \"na na boo boo\":\n",
    "        print(\"NA NA BOO BOO TO YOU - You have been punk'd!\")\n",
    "    else:\n",
    "        fhand = open(fname, 'r')\n",
    "        count = 0\n",
    "        for line in fhand:\n",
    "            if line.startswith(\"Subject:\"):\n",
    "                count = count + 1\n",
    "        print('There were', count, 'subject lines in', fname)\n",
    "        fhand.close()\n",
    "except:\n",
    "    print('File cannot be opened:', fname)\n",
    "    exit()"
   ]
  }
 ],
 "metadata": {
  "kernelspec": {
   "display_name": "Python 3",
   "language": "python",
   "name": "python3"
  },
  "language_info": {
   "codemirror_mode": {
    "name": "ipython",
    "version": 3
   },
   "file_extension": ".py",
   "mimetype": "text/x-python",
   "name": "python",
   "nbconvert_exporter": "python",
   "pygments_lexer": "ipython3",
   "version": "3.8.8"
  }
 },
 "nbformat": 4,
 "nbformat_minor": 2
}
